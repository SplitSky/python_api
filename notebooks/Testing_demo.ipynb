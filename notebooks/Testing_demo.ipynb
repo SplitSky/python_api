{
 "cells": [
  {
   "cell_type": "code",
   "execution_count": 31,
   "id": "ad0d9a6e",
   "metadata": {},
   "outputs": [],
   "source": [
    "### resdata - Jupyter Notebook analysis pipeline test\n",
    "## The testing cells.\n",
    "#1. Fetch single ring by id and visualise the data\n",
    "#2. Fetch relevant data from full experiment and visualise as histogram\n",
    "#3. Fetch relevant data from full experiment and visualise"
   ]
  },
  {
   "cell_type": "code",
   "execution_count": 38,
   "id": "2a8503f2",
   "metadata": {},
   "outputs": [],
   "source": [
    "## Sing in and Authentication\n",
    "username = 'test_user_main'\n",
    "password = 'some_password'\n",
    "email = 'email@test_email.com'\n",
    "full_name = 'Tomasz Neska'\n",
    "path = 'http://127.0.0.1:8000/'\n",
    "temp_file_name = \"test.json\""
   ]
  },
  {
   "cell_type": "code",
   "execution_count": 39,
   "id": "a37e6578",
   "metadata": {},
   "outputs": [
    {
     "data": {
      "text/plain": [
       "True"
      ]
     },
     "execution_count": 39,
     "metadata": {},
     "output_type": "execute_result"
    }
   ],
   "source": [
    "# initialisation cell\n",
    "import sys\n",
    "sys.path.insert(0, \"/home/splitsky/Desktop/code_repositories/resdata/\")\n",
    "import interface as ui\n",
    "api = ui.API_interface(path)\n",
    "api.check_connection()"
   ]
  },
  {
   "cell_type": "code",
   "execution_count": 40,
   "id": "eddf95d3",
   "metadata": {},
   "outputs": [
    {
     "name": "stdout",
     "output_type": "stream",
     "text": [
      "False\n"
     ]
    }
   ],
   "source": [
    "# make user\n",
    "result = api.create_user(username_in=username, password_in=password,email=email,full_name=full_name)\n",
    "print(result)"
   ]
  },
  {
   "cell_type": "code",
   "execution_count": 42,
   "id": "d39eb14c",
   "metadata": {
    "scrolled": true
   },
   "outputs": [
    {
     "ename": "AttributeError",
     "evalue": "'str' object has no attribute 'get'",
     "output_type": "error",
     "traceback": [
      "\u001b[0;31m---------------------------------------------------------------------------\u001b[0m",
      "\u001b[0;31mAttributeError\u001b[0m                            Traceback (most recent call last)",
      "Cell \u001b[0;32mIn [42], line 9\u001b[0m\n\u001b[1;32m      7\u001b[0m experiment_name \u001b[38;5;241m=\u001b[39m \u001b[38;5;124m\"\u001b[39m\u001b[38;5;124mexperiment_test\u001b[39m\u001b[38;5;124m\"\u001b[39m\n\u001b[1;32m      8\u001b[0m t\u001b[38;5;241m.\u001b[39mgenerate_optics_project(temp_file_name, [\u001b[38;5;241m2\u001b[39m,\u001b[38;5;241m4\u001b[39m],project_name, experiment_name, author_name\u001b[38;5;241m=\u001b[39musername)\n\u001b[0;32m----> 9\u001b[0m project_from_file \u001b[38;5;241m=\u001b[39m \u001b[43mt\u001b[49m\u001b[38;5;241;43m.\u001b[39;49m\u001b[43mload_file_project\u001b[49m\u001b[43m(\u001b[49m\u001b[43mfilename_out\u001b[49m\u001b[38;5;241;43m=\u001b[39;49m\u001b[43mtemp_file_name\u001b[49m\u001b[43m)\u001b[49m\n\u001b[1;32m     10\u001b[0m ui\u001b[38;5;241m.\u001b[39minsert(project(project_from_file))\n",
      "File \u001b[0;32m~/Desktop/code_repositories/resdata/testing.py:80\u001b[0m, in \u001b[0;36mload_file_project\u001b[0;34m(filename_out)\u001b[0m\n\u001b[1;32m     77\u001b[0m \u001b[38;5;28;01mfor\u001b[39;00m experiment \u001b[38;5;129;01min\u001b[39;00m python_dict\u001b[38;5;241m.\u001b[39mget(\u001b[38;5;124m\"\u001b[39m\u001b[38;5;124mgroups\u001b[39m\u001b[38;5;124m\"\u001b[39m):\n\u001b[1;32m     78\u001b[0m     \u001b[38;5;66;03m# iterate over datasets\u001b[39;00m\n\u001b[1;32m     79\u001b[0m     datasets_temp \u001b[38;5;241m=\u001b[39m []\n\u001b[0;32m---> 80\u001b[0m     \u001b[38;5;28;01mfor\u001b[39;00m dataset \u001b[38;5;129;01min\u001b[39;00m \u001b[43mexperiment\u001b[49m\u001b[38;5;241;43m.\u001b[39;49m\u001b[43mget\u001b[49m(\u001b[38;5;124m\"\u001b[39m\u001b[38;5;124mchildren\u001b[39m\u001b[38;5;124m\"\u001b[39m):\n\u001b[1;32m     81\u001b[0m         datasets_temp\u001b[38;5;241m.\u001b[39mappend(\n\u001b[1;32m     82\u001b[0m             d\u001b[38;5;241m.\u001b[39mDataset(name\u001b[38;5;241m=\u001b[39mdataset\u001b[38;5;241m.\u001b[39mget(\u001b[38;5;124m\"\u001b[39m\u001b[38;5;124mname\u001b[39m\u001b[38;5;124m\"\u001b[39m), data\u001b[38;5;241m=\u001b[39mdataset\u001b[38;5;241m.\u001b[39mget(\u001b[38;5;124m\"\u001b[39m\u001b[38;5;124mdata\u001b[39m\u001b[38;5;124m\"\u001b[39m), data_type\u001b[38;5;241m=\u001b[39mdataset\u001b[38;5;241m.\u001b[39mget(\u001b[38;5;124m\"\u001b[39m\u001b[38;5;124mdata_type\u001b[39m\u001b[38;5;124m\"\u001b[39m),\n\u001b[1;32m     83\u001b[0m                       meta\u001b[38;5;241m=\u001b[39mdataset\u001b[38;5;241m.\u001b[39mget(\u001b[38;5;124m\"\u001b[39m\u001b[38;5;124mmeta\u001b[39m\u001b[38;5;124m\"\u001b[39m), author\u001b[38;5;241m=\u001b[39mdataset\u001b[38;5;241m.\u001b[39mget(\u001b[38;5;124m\"\u001b[39m\u001b[38;5;124mauthor\u001b[39m\u001b[38;5;124m\"\u001b[39m),\n\u001b[1;32m     84\u001b[0m                       data_headings\u001b[38;5;241m=\u001b[39mdataset\u001b[38;5;241m.\u001b[39mget(\u001b[38;5;124m\"\u001b[39m\u001b[38;5;124mdata_headings\u001b[39m\u001b[38;5;124m\"\u001b[39m)))\n\u001b[1;32m     85\u001b[0m     groups_temp\u001b[38;5;241m.\u001b[39mappend(\n\u001b[1;32m     86\u001b[0m         d\u001b[38;5;241m.\u001b[39mExperiment(name\u001b[38;5;241m=\u001b[39mexperiment\u001b[38;5;241m.\u001b[39mget(\u001b[38;5;124m\"\u001b[39m\u001b[38;5;124mname\u001b[39m\u001b[38;5;124m\"\u001b[39m), children\u001b[38;5;241m=\u001b[39mdatasets_temp, meta\u001b[38;5;241m=\u001b[39mexperiment\u001b[38;5;241m.\u001b[39mget(\u001b[38;5;124m\"\u001b[39m\u001b[38;5;124mmeta\u001b[39m\u001b[38;5;124m\"\u001b[39m),\n\u001b[1;32m     87\u001b[0m                      author\u001b[38;5;241m=\u001b[39mexperiment\u001b[38;5;241m.\u001b[39mget(\u001b[38;5;124m\"\u001b[39m\u001b[38;5;124mauthor\u001b[39m\u001b[38;5;124m\"\u001b[39m)))\n",
      "\u001b[0;31mAttributeError\u001b[0m: 'str' object has no attribute 'get'"
     ]
    }
   ],
   "source": [
    "# generate datasets and insert them into the database\n",
    "import testing as t\n",
    "api.generate_token(username, password)\n",
    "#print(api.token)\n",
    "# generate token\n",
    "project_name = \"project_test\"\n",
    "experiment_name = \"experiment_test\"\n",
    "t.generate_optics_project(temp_file_name, [2,4],project_name, experiment_name, author_name=username)\n",
    "project_from_file = t.load_file_project(filename_out=temp_file_name)\n",
    "ui.insert(project(project_from_file))"
   ]
  },
  {
   "cell_type": "code",
   "execution_count": 43,
   "id": "db9bda2f",
   "metadata": {},
   "outputs": [
    {
     "name": "stdout",
     "output_type": "stream",
     "text": [
      "The data tree:\n"
     ]
    }
   ],
   "source": [
    "# print the files the user owns\n",
    "api.tree_print()"
   ]
  },
  {
   "cell_type": "code",
   "execution_count": null,
   "id": "4717fd4b",
   "metadata": {},
   "outputs": [],
   "source": []
  }
 ],
 "metadata": {
  "kernelspec": {
   "display_name": "Python 3",
   "language": "python",
   "name": "python3"
  },
  "language_info": {
   "codemirror_mode": {
    "name": "ipython",
    "version": 3
   },
   "file_extension": ".py",
   "mimetype": "text/x-python",
   "name": "python",
   "nbconvert_exporter": "python",
   "pygments_lexer": "ipython3",
   "version": "3.10.8"
  }
 },
 "nbformat": 4,
 "nbformat_minor": 5
}
