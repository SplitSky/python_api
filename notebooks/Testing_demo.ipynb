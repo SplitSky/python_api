{
 "cells": [
  {
   "cell_type": "code",
   "execution_count": null,
   "id": "ad0d9a6e",
   "metadata": {},
   "outputs": [],
   "source": [
    "### resdata - Jupyter Notebook analysis pipeline test\n",
    "## The testing cells.\n",
    "#1. Fetch single ring by id and visualise the data\n",
    "#2. Fetch relevant data from full experiment and visualise as histogram\n",
    "#3. Fetch relevant data from full experiment and visualise"
   ]
  },
  {
   "cell_type": "code",
   "execution_count": null,
   "id": "2a8503f2",
   "metadata": {},
   "outputs": [],
   "source": [
    "## Sing in and Authentication\n",
    "username = 'test_user_main'\n",
    "password = 'some_password'\n",
    "email = 'email@test_email.com'\n",
    "full_name = 'Tomasz Neska'\n",
    "path = 'http://127.0.0.1:8000/'\n",
    "file_name = \"test.json\"\n",
    "# declaration of variables used"
   ]
  },
  {
   "cell_type": "code",
   "execution_count": null,
   "id": "a37e6578",
   "metadata": {},
   "outputs": [],
   "source": [
    "# initialisation cell\n",
    "import sys\n",
    "sys.path.insert(0, \"/home/splitsky/Desktop/code_repositories/resdata/\")\n",
    "import interface as ui\n",
    "api = ui.API_interface(path)\n",
    "api.check_connection()\n",
    "#purge call - comment out if necessary -> just for development\n",
    "api.purge_everything()"
   ]
  },
  {
   "cell_type": "code",
   "execution_count": null,
   "id": "eddf95d3",
   "metadata": {},
   "outputs": [],
   "source": [
    "# make user and populate the database with data\n",
    "result = api.create_user(username_in=username, password_in=password,email=email,full_name=full_name)\n",
    "print(\"User created \"  + str(result))\n",
    "\n",
    "# populate the database\n",
    "no_of_rings = 5  \n",
    "no_of_experiments = 2\n",
    "\n",
    "import testing as t\n",
    "api.generate_token(username, password)\n",
    "project_name = \"project_test_\"\n",
    "experiment_name = \"experiment_test\"\n",
    "ds_size = 2000\n",
    "for i in range(0,4,1):\n",
    "    t.generate_optics_project(file_name,[no_of_rings, no_of_experiments], project_name+str(i), experiment_name, author_name=username, size_of_dataset=ds_size)\n",
    "    project = t.load_file_project(file_name)\n",
    "    api.insert_project(project)\n",
    "    \n",
    "# generate special project for analysis showcase\n",
    "\n",
    "project_name = \"special_project\"\n",
    "experiment_name = \"special_experiment_test\"\n",
    "ds_size = 5000\n",
    "\n",
    "search_value = 15.65 # the value that the analysis is supposed to reveal\n",
    "\n",
    "t.generate_optics_project_2(file_name, [1,1], project_name, experiment_name, username, ds_size, search_value)\n",
    "project = t.load_file_project(file_name)\n",
    "api.insert_project(project)\n",
    "\n",
    "print(\"Database populated\")\n",
    "print(\"\")\n",
    "api.tree_print()\n",
    "    \n",
    "    \n",
    "    "
   ]
  },
  {
   "cell_type": "code",
   "execution_count": null,
   "id": "62ebcfb4",
   "metadata": {},
   "outputs": [],
   "source": [
    "# Authenticate user cell\n",
    "api.generate_token(username, password)"
   ]
  },
  {
   "cell_type": "code",
   "execution_count": null,
   "id": "87a51f65",
   "metadata": {},
   "outputs": [],
   "source": [
    "# Tree print cell\n",
    "api.tree_print()"
   ]
  },
  {
   "cell_type": "code",
   "execution_count": null,
   "id": "d39eb14c",
   "metadata": {
    "scrolled": true
   },
   "outputs": [],
   "source": [
    "# Pull individual data set by name and plot\n",
    "dataset = api.return_full_dataset(\"project_test_3\",\"experiment_test 0\", \"PL spectrum - ring no.0\")\n",
    "x, y, ey = dataset.data\n",
    "### plot etc...\n",
    "\n",
    "import matplotlib.pyplot as plt\n",
    "\n",
    "plt.plot(x,y,\"r+\")\n"
   ]
  },
  {
   "cell_type": "code",
   "execution_count": null,
   "id": "db9bda2f",
   "metadata": {},
   "outputs": [],
   "source": [
    "# Pull single ring -> plot dimensions and all spectra\n",
    "import sys\n",
    "sys.path.insert(0, \"/home/splitsky/Desktop/code_repositories/resdata/\")\n",
    "import interface as ui\n",
    "import jupyter_driver as dr\n",
    "\n",
    "api = ui.API_interface(path)\n",
    "api.check_connection()\n",
    "\n",
    "api.generate_token(username, password)\n",
    "\n",
    "api.tree_print()\n",
    "ring_id = 0\n",
    "experiment_id = \"experiment_test 1\"\n",
    "project_id = \"project_test_0\"\n",
    "projects = api.experiment_search_meta(meta_search={\"ring_id\": ring_id}, experiment_id=experiment_id, project_id=project_id)\n",
    "\n",
    "for entry in projects:\n",
    "    print(entry.name)\n",
    "    \n",
    "    \n",
    "for entry in projects:\n",
    "    dr.plot_from_dataset(entry, entry.data_type, entry.name)\n",
    "    "
   ]
  },
  {
   "cell_type": "code",
   "execution_count": null,
   "id": "4717fd4b",
   "metadata": {},
   "outputs": [],
   "source": [
    "# Pull all rings from experiment and summarise dimensions\n",
    "import jupyter_driver as dr\n",
    "# pull full experiment\n",
    "experiment = api.return_full_experiment(project_name=\"project_test_0\" ,experiment_name=\"experiment_test 0\")\n",
    "# separate dimensions\n",
    "datasets = experiment.children\n",
    "desired_data = []\n",
    "for ds in datasets:\n",
    "    if ds.data_type == \"dimensions\":\n",
    "        desired_data.append(ds)\n",
    "        \n",
    "# summarise the quantities\n",
    "dr.summarise_dimensions(desired_data)\n",
    "\n",
    "#TODO: finish this up once matplot lib works"
   ]
  },
  {
   "cell_type": "code",
   "execution_count": null,
   "id": "9c944bd1",
   "metadata": {},
   "outputs": [],
   "source": [
    "# Create a group and pull it together to summarise ring dimensions\n",
    " \n",
    "group_name = \"very_important_things\"\n",
    "group_permission = \"write\" # or read is recognised\n",
    "# project_id, author_name, author_permission, group_name\n",
    "# the function prints true or false depending whether it succeded on adding the group to the project/experiment/dataset\n",
    "# _rec versions of the function add to groups recursively\n",
    "\n",
    "print(api.add_group_to_project_rec(\"project_test_0\", username, group_permission, group_name))\n",
    "print(api.add_group_to_experiment_rec(\"project_test_1\", \"experiment_test 0\", username, group_permission, group_name))\n",
    "print(api.add_group_to_dataset_rec(group_permission, username, group_name, \"project_test_2\", \"experiment_test 1\", \"TRPL spectrum - ring no.0\"))"
   ]
  },
  {
   "cell_type": "code",
   "execution_count": null,
   "id": "056877dd",
   "metadata": {},
   "outputs": [],
   "source": [
    "# Pull group together to summarise TRPL spectra from the datasets\n",
    "\n",
    "# use function which can be used with the group name or author name\n",
    "structure = api.author_query(group_name)\n",
    "\n",
    "api.tree_print_group(group_name)\n"
   ]
  }
 ],
 "metadata": {
  "kernelspec": {
   "display_name": "Python 3",
   "language": "python",
   "name": "python3"
  },
  "language_info": {
   "codemirror_mode": {
    "name": "ipython",
    "version": 3
   },
   "file_extension": ".py",
   "mimetype": "text/x-python",
   "name": "python",
   "nbconvert_exporter": "python",
   "pygments_lexer": "ipython3",
   "version": "3.10.8"
  }
 },
 "nbformat": 4,
 "nbformat_minor": 5
}
