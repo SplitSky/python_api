{
 "cells": [
  {
   "cell_type": "code",
   "execution_count": 6,
   "id": "ad0d9a6e",
   "metadata": {},
   "outputs": [
    {
     "ename": "SyntaxError",
     "evalue": "invalid syntax (1157603407.py, line 2)",
     "output_type": "error",
     "traceback": [
      "\u001b[0;36m  Cell \u001b[0;32mIn [6], line 2\u001b[0;36m\u001b[0m\n\u001b[0;31m    The testing cells.\u001b[0m\n\u001b[0m        ^\u001b[0m\n\u001b[0;31mSyntaxError\u001b[0m\u001b[0;31m:\u001b[0m invalid syntax\n"
     ]
    }
   ],
   "source": [
    "# resdata - Jupyter Notebook analysis pipeline test\n",
    "The testing cells.\n",
    "1. Fetch single ring by id and visualise the data\n",
    "2. Fetch relevant data from full experiment and visualise as histogram\n",
    "3. Fetch relevant data from full experiment and visualise"
   ]
  },
  {
   "cell_type": "code",
   "execution_count": null,
   "id": "2a8503f2",
   "metadata": {},
   "outputs": [],
   "source": [
    "## Sing in and Authentication\n",
    "username = 'test_user_main'\n",
    "password = 'some_password'"
   ]
  },
  {
   "cell_type": "code",
   "execution_count": 4,
   "id": "a37e6578",
   "metadata": {},
   "outputs": [],
   "source": [
    "import interface as ui\n",
    "\n"
   ]
  },
  {
   "cell_type": "code",
   "execution_count": null,
   "id": "eddf95d3",
   "metadata": {},
   "outputs": [],
   "source": [
    "# Initialisation cell\n",
    "'''\n",
    "Establish connection to the machine and verify the connection using the interface\n",
    "'''\n",
    "\n",
    "\n",
    "# update the variables file "
   ]
  }
 ],
 "metadata": {
  "kernelspec": {
   "display_name": "Python 3",
   "language": "python",
   "name": "python3"
  },
  "language_info": {
   "codemirror_mode": {
    "name": "ipython",
    "version": 3
   },
   "file_extension": ".py",
   "mimetype": "text/x-python",
   "name": "python",
   "nbconvert_exporter": "python",
   "pygments_lexer": "ipython3",
   "version": "3.10.8"
  }
 },
 "nbformat": 4,
 "nbformat_minor": 5
}
