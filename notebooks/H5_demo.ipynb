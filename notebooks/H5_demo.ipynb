{
 "cells": [
  {
   "cell_type": "code",
   "execution_count": 7,
   "id": "306af655",
   "metadata": {},
   "outputs": [],
   "source": [
    "## Sing in and Authentication\n",
    "username = 'test_user_main'\n",
    "password = 'some_password'\n",
    "email = 'email@test_email.com'\n",
    "full_name = 'Tomasz Neska'\n",
    "path = 'http://127.0.0.1:8000/'\n",
    "file_name = \"test.json\"\n",
    "# declaration of variables used"
   ]
  },
  {
   "cell_type": "code",
   "execution_count": 8,
   "id": "34afa0c1",
   "metadata": {},
   "outputs": [
    {
     "ename": "NameError",
     "evalue": "name 'Union' is not defined",
     "output_type": "error",
     "traceback": [
      "\u001b[0;31m---------------------------------------------------------------------------\u001b[0m",
      "\u001b[0;31mNameError\u001b[0m                                 Traceback (most recent call last)",
      "Cell \u001b[0;32mIn[8], line 4\u001b[0m\n\u001b[1;32m      2\u001b[0m \u001b[38;5;28;01mimport\u001b[39;00m \u001b[38;5;21;01msys\u001b[39;00m\n\u001b[1;32m      3\u001b[0m sys\u001b[38;5;241m.\u001b[39mpath\u001b[38;5;241m.\u001b[39minsert(\u001b[38;5;241m0\u001b[39m, \u001b[38;5;124m\"\u001b[39m\u001b[38;5;124m/home/splitsky/Desktop/code_repositories/resdata/\u001b[39m\u001b[38;5;124m\"\u001b[39m)\n\u001b[0;32m----> 4\u001b[0m \u001b[38;5;28;01mimport\u001b[39;00m \u001b[38;5;21;01minterface\u001b[39;00m \u001b[38;5;28;01mas\u001b[39;00m \u001b[38;5;21;01mui\u001b[39;00m\n\u001b[1;32m      5\u001b[0m api \u001b[38;5;241m=\u001b[39m ui\u001b[38;5;241m.\u001b[39mAPI_interface(path)\n\u001b[1;32m      6\u001b[0m api\u001b[38;5;241m.\u001b[39mcheck_connection()\n",
      "File \u001b[0;32m~/Desktop/code_repositories/resdata/interface.py:29\u001b[0m\n\u001b[1;32m     25\u001b[0m     temp\u001b[38;5;241m.\u001b[39mupdate(password\u001b[38;5;241m.\u001b[39mencode(\u001b[38;5;124m'\u001b[39m\u001b[38;5;124mutf8\u001b[39m\u001b[38;5;124m'\u001b[39m))\n\u001b[1;32m     26\u001b[0m     \u001b[38;5;28;01mreturn\u001b[39;00m temp\u001b[38;5;241m.\u001b[39mhexdigest(\u001b[38;5;241m64\u001b[39m)\n\u001b[0;32m---> 29\u001b[0m \u001b[38;5;28;01mclass\u001b[39;00m \u001b[38;5;21;01mAPI_interface\u001b[39;00m:\n\u001b[1;32m     30\u001b[0m \u001b[38;5;250m    \u001b[39m\u001b[38;5;124;03m\"\"\" The Class containing the interface functions and variables. \"\"\"\u001b[39;00m\n\u001b[1;32m     32\u001b[0m     \u001b[38;5;28;01mdef\u001b[39;00m \u001b[38;5;21m__init__\u001b[39m(\u001b[38;5;28mself\u001b[39m, path_in: \u001b[38;5;28mstr\u001b[39m) \u001b[38;5;241m-\u001b[39m\u001b[38;5;241m>\u001b[39m \u001b[38;5;28;01mNone\u001b[39;00m:\n",
      "File \u001b[0;32m~/Desktop/code_repositories/resdata/interface.py:727\u001b[0m, in \u001b[0;36mAPI_interface\u001b[0;34m()\u001b[0m\n\u001b[1;32m    724\u001b[0m         \u001b[38;5;28;01mraise\u001b[39;00m \u001b[38;5;167;01mException\u001b[39;00m(\u001b[38;5;124m\"\u001b[39m\u001b[38;5;124mThe dataset image wasn\u001b[39m\u001b[38;5;124m'\u001b[39m\u001b[38;5;124mt encoded correctly or isn\u001b[39m\u001b[38;5;124m'\u001b[39m\u001b[38;5;124mt an image.\u001b[39m\u001b[38;5;124m\"\u001b[39m)\n\u001b[1;32m    725\u001b[0m     \u001b[38;5;28;01mreturn\u001b[39;00m \u001b[38;5;28mself\u001b[39m\u001b[38;5;241m.\u001b[39mconvert_array_to_img(array\u001b[38;5;241m=\u001b[39mdataset_in\u001b[38;5;241m.\u001b[39mdata, filename\u001b[38;5;241m=\u001b[39mfile_name, data_type\u001b[38;5;241m=\u001b[39mdata_type)\n\u001b[0;32m--> 727\u001b[0m \u001b[38;5;28;01mdef\u001b[39;00m \u001b[38;5;21mgenerate_dataset_for_list\u001b[39m(\u001b[38;5;28mself\u001b[39m, data : \u001b[38;5;28mlist\u001b[39m, data_headings : \u001b[38;5;28mlist\u001b[39m, meta : \u001b[43mUnion\u001b[49m[\u001b[38;5;28mdict\u001b[39m, \u001b[38;5;28;01mNone\u001b[39;00m] \u001b[38;5;241m=\u001b[39m \u001b[38;5;28;01mNone\u001b[39;00m):\n\u001b[1;32m    728\u001b[0m \u001b[38;5;250m    \u001b[39m\u001b[38;5;124;03m\"\"\"Generates a dataset using just the essential pieces of data\"\"\"\u001b[39;00m\n\u001b[1;32m    729\u001b[0m     \u001b[38;5;28;01mif\u001b[39;00m \u001b[38;5;28mlen\u001b[39m(\u001b[38;5;28mself\u001b[39m\u001b[38;5;241m.\u001b[39musername) \u001b[38;5;241m==\u001b[39m \u001b[38;5;241m0\u001b[39m:\n",
      "\u001b[0;31mNameError\u001b[0m: name 'Union' is not defined"
     ]
    }
   ],
   "source": [
    "# initialisation cell\n",
    "import sys\n",
    "sys.path.insert(0, \"/home/splitsky/Desktop/code_repositories/resdata/\")\n",
    "import interface as ui\n",
    "api = ui.API_interface(path)\n",
    "api.check_connection()\n",
    "#purge call - comment out if necessary -> just for development\n",
    "#api.purge_everything()"
   ]
  },
  {
   "cell_type": "code",
   "execution_count": null,
   "id": "f67dd3cd",
   "metadata": {},
   "outputs": [],
   "source": [
    "# make user\n",
    "result = api.create_user(username_in=username, password_in=password,email=email,full_name=full_name)\n",
    "print(\"User created \"  + str(result))"
   ]
  },
  {
   "cell_type": "code",
   "execution_count": null,
   "id": "046da9de",
   "metadata": {},
   "outputs": [],
   "source": [
    "# import data into database from h5 file\n",
    "api.generate_token(username, password)\n",
    "\n"
   ]
  },
  {
   "cell_type": "code",
   "execution_count": null,
   "id": "bd055450",
   "metadata": {},
   "outputs": [],
   "source": [
    "# populate the database from json file\n",
    "import json\n",
    "\n",
    "with open(\"json_version.json\", \"r\") as file:\n",
    "    data = file.readlines()\n",
    "    #data = json.load(file)\n",
    "    file.close()\n",
    "#print(data.keys())\n",
    "data = data[0]\n",
    "#window_size = 10\n",
    "indexes = []\n",
    "print(data[0:100])\n",
    "#json_data = json.loads(data)\n",
    "i = 0\n",
    "#for entry in data:\n",
    "#    if entry == \"}\":\n",
    "#        indexes.append(i)\n",
    "#    elif entry == \"{\":\n",
    "#        indexes.append(i)\n",
    "#    i += 1\n",
    "#a = indexes\n",
    "\n",
    "a = [0, 15876, 15877, 32403, 32404, 219786, 219787, 28290121, 28290122, 28322008, 28322009, 28511550, 28511551, 72277801, 72277802, 217744882, 217744883, 218590776, 218590777, 219404143, 219404144, 219463348, 219463349, 219522545, 219522546, 219573845, 219573846, 219641400, 219641401, 219709143, 219709144, 219770736, 219770737, 219779006, 219779007, 219958331, 219958332, 219966601, 219966602, 1719934446]\n",
    "\n",
    "print(data[a[0]:a[0]+10])\n",
    "\n",
    "for i in range(0,len(a),1):\n",
    "    if i % 2 != 0:\n",
    "        print(f'line {i}: {data[a[i]: a[i]+15]}')\n",
    "        #print(data[a[i]: a[i]+15])"
   ]
  },
  {
   "cell_type": "code",
   "execution_count": null,
   "id": "288e052f",
   "metadata": {},
   "outputs": [],
   "source": [
    "# Browse the data in the database\n",
    "api.tree_print()"
   ]
  },
  {
   "cell_type": "code",
   "execution_count": null,
   "id": "08d50ae1",
   "metadata": {},
   "outputs": [],
   "source": []
  }
 ],
 "metadata": {
  "kernelspec": {
   "display_name": "Python 3",
   "language": "python",
   "name": "python3"
  },
  "language_info": {
   "codemirror_mode": {
    "name": "ipython",
    "version": 3
   },
   "file_extension": ".py",
   "mimetype": "text/x-python",
   "name": "python",
   "nbconvert_exporter": "python",
   "pygments_lexer": "ipython3",
   "version": "3.10.9"
  }
 },
 "nbformat": 4,
 "nbformat_minor": 5
}
