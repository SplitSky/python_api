{
 "cells": [
  {
   "cell_type": "code",
   "execution_count": 1,
   "id": "306af655",
   "metadata": {},
   "outputs": [],
   "source": [
    "## Sing in and Authentication\n",
    "username = 'test_user_main'\n",
    "password = 'some_password'\n",
    "email = 'email@test_email.com'\n",
    "full_name = 'Tomasz Neska'\n",
    "path = 'http://127.0.0.1:8000/'\n",
    "file_name = \"test.json\"\n",
    "# declaration of variables used"
   ]
  },
  {
   "cell_type": "code",
   "execution_count": 2,
   "id": "34afa0c1",
   "metadata": {},
   "outputs": [
    {
     "name": "stdout",
     "output_type": "stream",
     "text": [
      "purged\n"
     ]
    }
   ],
   "source": [
    "# initialisation cell\n",
    "import sys\n",
    "sys.path.insert(0, \"/home/splitsky/Desktop/code_repositories/resdata/\")\n",
    "import interface as ui\n",
    "api = ui.API_interface(path)\n",
    "api.check_connection()\n",
    "#purge call - comment out if necessary -> just for development\n",
    "#api.purge_everything()"
   ]
  },
  {
   "cell_type": "code",
   "execution_count": 3,
   "id": "f67dd3cd",
   "metadata": {},
   "outputs": [
    {
     "name": "stdout",
     "output_type": "stream",
     "text": [
      "User created True\n"
     ]
    }
   ],
   "source": [
    "# make user and populate the database with data\n",
    "result = api.create_user(username_in=username, password_in=password,email=email,full_name=full_name)\n",
    "print(\"User created \"  + str(result))"
   ]
  },
  {
   "cell_type": "code",
   "execution_count": null,
   "id": "046da9de",
   "metadata": {},
   "outputs": [],
   "source": [
    "# import data into database from h5 file\n",
    "api.generate_token(username, password)\n",
    "\n"
   ]
  }
 ],
 "metadata": {
  "kernelspec": {
   "display_name": "Python 3",
   "language": "python",
   "name": "python3"
  },
  "language_info": {
   "codemirror_mode": {
    "name": "ipython",
    "version": 3
   },
   "file_extension": ".py",
   "mimetype": "text/x-python",
   "name": "python",
   "nbconvert_exporter": "python",
   "pygments_lexer": "ipython3",
   "version": "3.10.9"
  }
 },
 "nbformat": 4,
 "nbformat_minor": 5
}
